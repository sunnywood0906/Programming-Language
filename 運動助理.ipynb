{
  "cells": [
    {
      "cell_type": "markdown",
      "metadata": {
        "id": "view-in-github",
        "colab_type": "text"
      },
      "source": [
        "<a href=\"https://colab.research.google.com/github/sunnywood0906/Programming-Language/blob/main/%E9%81%8B%E5%8B%95%E5%8A%A9%E7%90%86.ipynb\" target=\"_parent\"><img src=\"https://colab.research.google.com/assets/colab-badge.svg\" alt=\"Open In Colab\"/></a>"
      ]
    },
    {
      "cell_type": "code",
      "source": [
        "from google.colab import userdata\n",
        "apikey = userdata.get('test')"
      ],
      "metadata": {
        "id": "kV_fqJ1nG5-1"
      },
      "execution_count": null,
      "outputs": []
    },
    {
      "cell_type": "code",
      "source": [
        "#確認python的版本\n",
        "!python --version"
      ],
      "metadata": {
        "id": "pGWIk_Ng7E1g",
        "colab": {
          "base_uri": "https://localhost:8080/"
        },
        "outputId": "8c8c1225-0a89-4c29-997c-34070215d5e9"
      },
      "execution_count": null,
      "outputs": [
        {
          "output_type": "stream",
          "name": "stdout",
          "text": [
            "Python 3.11.11\n"
          ]
        }
      ]
    },
    {
      "cell_type": "code",
      "source": [
        "#安裝Gemini API套件\n",
        "!pip install google-generativeai"
      ],
      "metadata": {
        "colab": {
          "base_uri": "https://localhost:8080/"
        },
        "id": "pN0i04i-RHJL",
        "outputId": "b0fe4226-e8ed-436e-b435-9e968d21ee12"
      },
      "execution_count": null,
      "outputs": [
        {
          "output_type": "stream",
          "name": "stdout",
          "text": [
            "Requirement already satisfied: google-generativeai in /usr/local/lib/python3.11/dist-packages (0.8.4)\n",
            "Requirement already satisfied: google-ai-generativelanguage==0.6.15 in /usr/local/lib/python3.11/dist-packages (from google-generativeai) (0.6.15)\n",
            "Requirement already satisfied: google-api-core in /usr/local/lib/python3.11/dist-packages (from google-generativeai) (2.19.2)\n",
            "Requirement already satisfied: google-api-python-client in /usr/local/lib/python3.11/dist-packages (from google-generativeai) (2.160.0)\n",
            "Requirement already satisfied: google-auth>=2.15.0 in /usr/local/lib/python3.11/dist-packages (from google-generativeai) (2.27.0)\n",
            "Requirement already satisfied: protobuf in /usr/local/lib/python3.11/dist-packages (from google-generativeai) (4.25.6)\n",
            "Requirement already satisfied: pydantic in /usr/local/lib/python3.11/dist-packages (from google-generativeai) (2.10.6)\n",
            "Requirement already satisfied: tqdm in /usr/local/lib/python3.11/dist-packages (from google-generativeai) (4.67.1)\n",
            "Requirement already satisfied: typing-extensions in /usr/local/lib/python3.11/dist-packages (from google-generativeai) (4.12.2)\n",
            "Requirement already satisfied: proto-plus<2.0.0dev,>=1.22.3 in /usr/local/lib/python3.11/dist-packages (from google-ai-generativelanguage==0.6.15->google-generativeai) (1.26.0)\n",
            "Requirement already satisfied: googleapis-common-protos<2.0.dev0,>=1.56.2 in /usr/local/lib/python3.11/dist-packages (from google-api-core->google-generativeai) (1.67.0)\n",
            "Requirement already satisfied: requests<3.0.0.dev0,>=2.18.0 in /usr/local/lib/python3.11/dist-packages (from google-api-core->google-generativeai) (2.32.3)\n",
            "Requirement already satisfied: cachetools<6.0,>=2.0.0 in /usr/local/lib/python3.11/dist-packages (from google-auth>=2.15.0->google-generativeai) (5.5.1)\n",
            "Requirement already satisfied: pyasn1-modules>=0.2.1 in /usr/local/lib/python3.11/dist-packages (from google-auth>=2.15.0->google-generativeai) (0.4.1)\n",
            "Requirement already satisfied: rsa<5,>=3.1.4 in /usr/local/lib/python3.11/dist-packages (from google-auth>=2.15.0->google-generativeai) (4.9)\n",
            "Requirement already satisfied: httplib2<1.dev0,>=0.19.0 in /usr/local/lib/python3.11/dist-packages (from google-api-python-client->google-generativeai) (0.22.0)\n",
            "Requirement already satisfied: google-auth-httplib2<1.0.0,>=0.2.0 in /usr/local/lib/python3.11/dist-packages (from google-api-python-client->google-generativeai) (0.2.0)\n",
            "Requirement already satisfied: uritemplate<5,>=3.0.1 in /usr/local/lib/python3.11/dist-packages (from google-api-python-client->google-generativeai) (4.1.1)\n",
            "Requirement already satisfied: annotated-types>=0.6.0 in /usr/local/lib/python3.11/dist-packages (from pydantic->google-generativeai) (0.7.0)\n",
            "Requirement already satisfied: pydantic-core==2.27.2 in /usr/local/lib/python3.11/dist-packages (from pydantic->google-generativeai) (2.27.2)\n",
            "Requirement already satisfied: grpcio<2.0dev,>=1.33.2 in /usr/local/lib/python3.11/dist-packages (from google-api-core[grpc]!=2.0.*,!=2.1.*,!=2.10.*,!=2.2.*,!=2.3.*,!=2.4.*,!=2.5.*,!=2.6.*,!=2.7.*,!=2.8.*,!=2.9.*,<3.0.0dev,>=1.34.1->google-ai-generativelanguage==0.6.15->google-generativeai) (1.70.0)\n",
            "Requirement already satisfied: grpcio-status<2.0.dev0,>=1.33.2 in /usr/local/lib/python3.11/dist-packages (from google-api-core[grpc]!=2.0.*,!=2.1.*,!=2.10.*,!=2.2.*,!=2.3.*,!=2.4.*,!=2.5.*,!=2.6.*,!=2.7.*,!=2.8.*,!=2.9.*,<3.0.0dev,>=1.34.1->google-ai-generativelanguage==0.6.15->google-generativeai) (1.62.3)\n",
            "Requirement already satisfied: pyparsing!=3.0.0,!=3.0.1,!=3.0.2,!=3.0.3,<4,>=2.4.2 in /usr/local/lib/python3.11/dist-packages (from httplib2<1.dev0,>=0.19.0->google-api-python-client->google-generativeai) (3.2.1)\n",
            "Requirement already satisfied: pyasn1<0.7.0,>=0.4.6 in /usr/local/lib/python3.11/dist-packages (from pyasn1-modules>=0.2.1->google-auth>=2.15.0->google-generativeai) (0.6.1)\n",
            "Requirement already satisfied: charset-normalizer<4,>=2 in /usr/local/lib/python3.11/dist-packages (from requests<3.0.0.dev0,>=2.18.0->google-api-core->google-generativeai) (3.4.1)\n",
            "Requirement already satisfied: idna<4,>=2.5 in /usr/local/lib/python3.11/dist-packages (from requests<3.0.0.dev0,>=2.18.0->google-api-core->google-generativeai) (3.10)\n",
            "Requirement already satisfied: urllib3<3,>=1.21.1 in /usr/local/lib/python3.11/dist-packages (from requests<3.0.0.dev0,>=2.18.0->google-api-core->google-generativeai) (2.3.0)\n",
            "Requirement already satisfied: certifi>=2017.4.17 in /usr/local/lib/python3.11/dist-packages (from requests<3.0.0.dev0,>=2.18.0->google-api-core->google-generativeai) (2025.1.31)\n"
          ]
        }
      ]
    },
    {
      "cell_type": "code",
      "source": [
        "import google.generativeai as genai\n",
        "\n",
        "# 設定API Key\n",
        "API_KEY = userdata.get(\"test\")\n",
        "genai.configure(api_key = apikey)\n",
        "\n",
        "# 測試 API 是否正常\n",
        "model = genai.GenerativeModel(\"gemini-1.5-flash\")\n",
        "response = model.generate_content(\"請簡單介紹自己\")\n",
        "print(response.text)"
      ],
      "metadata": {
        "colab": {
          "base_uri": "https://localhost:8080/",
          "height": 52
        },
        "id": "IO2TLaeGRg96",
        "outputId": "be1f6433-8958-4267-d611-9659d0b31767"
      },
      "execution_count": null,
      "outputs": [
        {
          "output_type": "stream",
          "name": "stdout",
          "text": [
            "我是一個大型語言模型，由 Google 訓練。\n",
            "\n"
          ]
        }
      ]
    },
    {
      "cell_type": "code",
      "source": [
        "#input\\\n",
        "\\\n",
        "age = int(input(\"請輸入你的年齡（歲）：\"))\n",
        "gender = input(\"請輸入你的生理性別（男 / 女 / 不透露）：\")\n",
        "height = float(input(\"請輸入你的身高（cm）：\"))\n",
        "weight = float(input(\"請輸入你的體重（kg）：\"))\n",
        "goal1 = input(\"你的第一階段目標是（減脂 / 增肌 / 維持）：\")\n",
        "goal2 = input(\"你的第二階段目標是（減脂 / 增肌 / 維持 / 無）：\")\n",
        "activity_level = input(\"你的運動頻率（低 / 中 / 高）：\")\n",
        "\n",
        "# 取得 AI 建議\n",
        "fitness_plan = get_fitness_plan(age, gender, height, weight, goal1, goal2, activity_level)\n",
        "\n",
        "# 顯示結果\n",
        "print(\"\\n💪 AI 健康建議 💪\")\n",
        "print(fitness_plan)"
      ],
      "metadata": {
        "colab": {
          "base_uri": "https://localhost:8080/",
          "height": 868
        },
        "id": "nI0f8PcIUYsC",
        "outputId": "daa4c585-47df-4aca-b20c-d51f5832f7a7"
      },
      "execution_count": 46,
      "outputs": [
        {
          "output_type": "stream",
          "name": "stdout",
          "text": [
            "請輸入你的年齡（歲）：20\n",
            "請輸入你的生理性別（男 / 女 / 不透露）：男\n",
            "請輸入你的身高（cm）：170\n",
            "請輸入你的體重（kg）：70\n",
            "你的第一階段目標是（減脂 / 增肌 / 維持）：增肌\n",
            "你的第二階段目標是（減脂 / 增肌 / 維持 / 無）：無\n",
            "你的運動頻率（低 / 中 / 高）：低\n",
            "\n",
            "💪 AI 健康建議 💪\n",
            "**1. BMI**\n",
            "\n",
            "- BMI = 70.0 / (1.70)^2 = **24.2**\n",
            "- 範圍：18.5-24.9 為正常體重，25.0-29.9 為過重，30.0 及以上為肥胖。\n",
            "\n",
            "**2. 基礎代謝率（BMR）**\n",
            "\n",
            "- BMR 是身體在休息狀態下維持生命機能所需的最低熱量。\n",
            "- 使用者 BMR 約為：**1,550 大卡/天**\n",
            "\n",
            "**3. 總熱量消耗（TDEE）**\n",
            "\n",
            "- TDEE 是身體每天消耗的總熱量，包括 BMR 和活動熱量消耗。\n",
            "- 對於低運動頻率的使用者，TDEE 約為 BMR 的 1.35 倍。\n",
            "- 使用者 TDEE 約為：**2,093 大卡/天**\n",
            "\n",
            "**4. 每日建議攝取熱量**\n",
            "\n",
            "- 對於增肌目標，每日建議攝取熱量約為 TDEE 的 10-15%。\n",
            "- 使用者每日建議攝取熱量：**2,252-2,346 大卡**\n",
            "\n",
            "**5. 每週運動建議**\n",
            "\n",
            "- **週一：**腿部肌力訓練（深蹲、腿推、腿後腱捲曲）\n",
            "- **週二：**休息\n",
            "- **週三：**胸部和三頭肌訓練（臥推、飛鳥、三頭肌下拉）\n",
            "- **週四：**休息\n",
            "- **週五：**背部和二頭肌訓練（硬舉、引體向上、二頭肌彎舉）\n",
            "- **週六：**休息\n",
            "- **週日：**有氧運動（快走、慢跑、游泳）\n",
            "\n",
            "**6. 飲食建議**\n",
            "\n",
            "- 蛋白質：每日每公斤體重 1.6-2.2 公克，約為 112-154 公克。\n",
            "- 碳水化合物：佔攝取熱量的 50-60%，約為 281-350 公克。\n",
            "- 脂肪：佔攝取熱量的 20-30%，約為 52-70 公克。\n",
            "- 多攝取富含蛋白質的食物，如瘦肉、雞蛋、乳製品、豆類。\n",
            "- 多攝取健康的碳水化合物，如糙米、全麥麵包、水果、蔬菜。\n",
            "- 選擇健康的脂肪來源，如堅果、種子、橄欖油、酪梨。\n",
            "- 保持充足的水分，每天至少喝 8 杯水。\n"
          ]
        }
      ]
    },
    {
      "cell_type": "code",
      "source": [
        "#set\n",
        "def get_fitness_plan(age, gender, height, weight, goal1, goal2, activity_level):\n",
        "    \"\"\"\n",
        "    根據使用者的體重、目標和運動習慣，產生運動與飲食建議\n",
        "    \"\"\"\n",
        "    prompt = f\"\"\"\n",
        "    你是一個專業健身教練，請根據以下資訊提供運動與飲食建議：\n",
        "    - 年齡：{age} 歲\n",
        "    - 生理性別：{gender}（男 / 女 / 不透露）\n",
        "    - 體重：{weight} 公斤\n",
        "    - 身高：{height} 公分\n",
        "    - 第一階段目標：{goal1}（減脂 / 增肌 / 維持）\n",
        "    - 第二階段目標：{goal2}（減脂 / 增肌 / 維持 / 無）\n",
        "    - 運動頻率：{activity_level}（低 / 中 / 高）\n",
        "\n",
        "    **請提供：**\n",
        "    1. BMI(包含範圍說明)\n",
        "    2. 基礎代謝率BMR(向使用者簡要介紹甚麼是BMR)\n",
        "    3. 總熱量消耗TDEE(向使用者簡要介紹甚麼是TDEE)\n",
        "    4. 每日建議攝取熱量（大約數字）\n",
        "    5. 每週運動建議（以一周為使用者規劃運動計畫）\n",
        "    6. 任何適合的飲食建議(根據目標與TDEE設定)\n",
        "    \"\"\"#f-string:可以直接在字串中插入變數而不用+拼接字串\n",
        "\n",
        "    model = genai.GenerativeModel(\"gemini-pro\")\n",
        "    response = model.generate_content(prompt)\n",
        "    return response.text\n"
      ],
      "metadata": {
        "id": "TUbHOnEcTbxS"
      },
      "execution_count": null,
      "outputs": []
    }
  ],
  "metadata": {
    "colab": {
      "provenance": [],
      "toc_visible": true,
      "include_colab_link": true
    },
    "kernelspec": {
      "display_name": "Python 3",
      "name": "python3"
    }
  },
  "nbformat": 4,
  "nbformat_minor": 0
}